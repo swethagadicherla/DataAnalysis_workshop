{
 "cells": [
  {
   "cell_type": "markdown",
   "metadata": {},
   "source": [
    "# Data Analysis\n",
    "## Data 1\n",
    "### Data 2\n",
    "#### Data 3\n",
    "I am in **bold** mode\n",
    "I am in ***italic+bold*** mode\n",
    "\n",
    "- point1\n",
    "- point2\n",
    "\n",
    "- main_point\n",
    " - point1\n",
    "  - point2 \n",
    "  \n",
    "1. point\n",
    "2. point\n",
    "3. point"
   ]
  },
  {
   "cell_type": "markdown",
   "metadata": {},
   "source": [
    "[python](https://www.anaconda.com/products/individual/)"
   ]
  },
  {
   "cell_type": "markdown",
   "metadata": {},
   "source": [
    "col1 | col2\n",
    "--|--\n",
    "1|2\n",
    "2|3"
   ]
  },
  {
   "cell_type": "markdown",
   "metadata": {},
   "source": [
    "![](https://www.filmcompanion.in/wp-content/uploads/2020/04/Film-companion-thalapathy-Vijay-lead-image.jpg)"
   ]
  },
  {
   "cell_type": "markdown",
   "metadata": {},
   "source": [
    "![]("
   ]
  },
  {
   "cell_type": "code",
   "execution_count": null,
   "metadata": {},
   "outputs": [],
   "source": []
  }
 ],
 "metadata": {
  "kernelspec": {
   "display_name": "Python 3",
   "language": "python",
   "name": "python3"
  },
  "language_info": {
   "codemirror_mode": {
    "name": "ipython",
    "version": 3
   },
   "file_extension": ".py",
   "mimetype": "text/x-python",
   "name": "python",
   "nbconvert_exporter": "python",
   "pygments_lexer": "ipython3",
   "version": "3.7.1"
  }
 },
 "nbformat": 4,
 "nbformat_minor": 2
}
